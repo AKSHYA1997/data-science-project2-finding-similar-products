{
 "cells": [
  {
   "cell_type": "code",
   "execution_count": 1,
   "id": "285bba71",
   "metadata": {},
   "outputs": [],
   "source": [
    "import numpy as np\n",
    "import pandas as pd\n",
    "import os\n",
    "import matplotlib.pyplot as plt\n",
    "import seaborn as sns\n",
    "\n",
    "from subprocess import check_output"
   ]
  },
  {
   "cell_type": "code",
   "execution_count": 2,
   "id": "edf420ac",
   "metadata": {},
   "outputs": [
    {
     "data": {
      "text/html": [
       "<div>\n",
       "<style scoped>\n",
       "    .dataframe tbody tr th:only-of-type {\n",
       "        vertical-align: middle;\n",
       "    }\n",
       "\n",
       "    .dataframe tbody tr th {\n",
       "        vertical-align: top;\n",
       "    }\n",
       "\n",
       "    .dataframe thead th {\n",
       "        text-align: right;\n",
       "    }\n",
       "</style>\n",
       "<table border=\"1\" class=\"dataframe\">\n",
       "  <thead>\n",
       "    <tr style=\"text-align: right;\">\n",
       "      <th></th>\n",
       "      <th>product_id</th>\n",
       "      <th>product_name</th>\n",
       "      <th>aisle_id</th>\n",
       "      <th>department_id</th>\n",
       "    </tr>\n",
       "  </thead>\n",
       "  <tbody>\n",
       "    <tr>\n",
       "      <th>0</th>\n",
       "      <td>1</td>\n",
       "      <td>Chocolate Sandwich Cookies</td>\n",
       "      <td>61</td>\n",
       "      <td>19</td>\n",
       "    </tr>\n",
       "    <tr>\n",
       "      <th>1</th>\n",
       "      <td>2</td>\n",
       "      <td>All-Seasons Salt</td>\n",
       "      <td>104</td>\n",
       "      <td>13</td>\n",
       "    </tr>\n",
       "    <tr>\n",
       "      <th>2</th>\n",
       "      <td>3</td>\n",
       "      <td>Robust Golden Unsweetened Oolong Tea</td>\n",
       "      <td>94</td>\n",
       "      <td>7</td>\n",
       "    </tr>\n",
       "    <tr>\n",
       "      <th>3</th>\n",
       "      <td>4</td>\n",
       "      <td>Smart Ones Classic Favorites Mini Rigatoni Wit...</td>\n",
       "      <td>38</td>\n",
       "      <td>1</td>\n",
       "    </tr>\n",
       "    <tr>\n",
       "      <th>4</th>\n",
       "      <td>5</td>\n",
       "      <td>Green Chile Anytime Sauce</td>\n",
       "      <td>5</td>\n",
       "      <td>13</td>\n",
       "    </tr>\n",
       "  </tbody>\n",
       "</table>\n",
       "</div>"
      ],
      "text/plain": [
       "   product_id                                       product_name  aisle_id  \\\n",
       "0           1                         Chocolate Sandwich Cookies        61   \n",
       "1           2                                   All-Seasons Salt       104   \n",
       "2           3               Robust Golden Unsweetened Oolong Tea        94   \n",
       "3           4  Smart Ones Classic Favorites Mini Rigatoni Wit...        38   \n",
       "4           5                          Green Chile Anytime Sauce         5   \n",
       "\n",
       "   department_id  \n",
       "0             19  \n",
       "1             13  \n",
       "2              7  \n",
       "3              1  \n",
       "4             13  "
      ]
     },
     "execution_count": 2,
     "metadata": {},
     "output_type": "execute_result"
    }
   ],
   "source": [
    "products = pd.read_csv(r'C:\\Users\\HP\\Desktop\\project-2\\prods.csv')\n",
    "products.head()"
   ]
  },
  {
   "cell_type": "code",
   "execution_count": 3,
   "id": "4c4d2a91",
   "metadata": {},
   "outputs": [
    {
     "name": "stdout",
     "output_type": "stream",
     "text": [
      "1000\n"
     ]
    }
   ],
   "source": [
    "print(len(set(products[\"product_name\"])))"
   ]
  },
  {
   "cell_type": "code",
   "execution_count": 4,
   "id": "c0863793",
   "metadata": {},
   "outputs": [
    {
     "name": "stdout",
     "output_type": "stream",
     "text": [
      "1000\n"
     ]
    }
   ],
   "source": [
    "print(len(products[\"product_name\"]))"
   ]
  },
  {
   "cell_type": "code",
   "execution_count": 5,
   "id": "0ded870e",
   "metadata": {},
   "outputs": [
    {
     "name": "stdout",
     "output_type": "stream",
     "text": [
      "21\n"
     ]
    }
   ],
   "source": [
    "print(len(set(products[\"department_id\"])))"
   ]
  },
  {
   "cell_type": "code",
   "execution_count": 6,
   "id": "107cdd02",
   "metadata": {},
   "outputs": [
    {
     "name": "stdout",
     "output_type": "stream",
     "text": [
      "1000\n"
     ]
    }
   ],
   "source": [
    "print(len(products[\"department_id\"]))"
   ]
  },
  {
   "cell_type": "code",
   "execution_count": 7,
   "id": "f1d0fb79",
   "metadata": {},
   "outputs": [
    {
     "data": {
      "text/plain": [
       "<AxesSubplot:xlabel='aisle_id', ylabel='count'>"
      ]
     },
     "execution_count": 7,
     "metadata": {},
     "output_type": "execute_result"
    },
    {
     "data": {
      "image/png": "[encoded data removed]",
      "text/plain": [
       "<Figure size 432x288 with 1 Axes>"
      ]
     },
     "metadata": {
      "needs_background": "light"
     },
     "output_type": "display_data"
    }
   ],
   "source": [
    "sns.countplot(x='aisle_id', data=products, palette=\"Greens_d\")"
   ]
  },
  {
   "cell_type": "code",
   "execution_count": 8,
   "id": "4737279d",
   "metadata": {},
   "outputs": [
    {
     "name": "stdout",
     "output_type": "stream",
     "text": [
      "<class 'pandas.core.frame.DataFrame'>\n",
      "RangeIndex: 1000 entries, 0 to 999\n",
      "Data columns (total 4 columns):\n",
      " #   Column         Non-Null Count  Dtype \n",
      "---  ------         --------------  ----- \n",
      " 0   product_id     1000 non-null   int64 \n",
      " 1   product_name   1000 non-null   object\n",
      " 2   aisle_id       1000 non-null   int64 \n",
      " 3   department_id  1000 non-null   int64 \n",
      "dtypes: int64(3), object(1)\n",
      "memory usage: 31.4+ KB\n"
     ]
    }
   ],
   "source": [
    "products.info()"
   ]
  },
  {
   "cell_type": "code",
   "execution_count": 9,
   "id": "a9e21e59",
   "metadata": {},
   "outputs": [
    {
     "name": "stdout",
     "output_type": "stream",
     "text": [
      "Requirement already satisfied: gensim in e:\\data_science\\anaconda\\lib\\site-packages (4.0.1)\n",
      "Requirement already satisfied: scipy>=0.18.1 in e:\\data_science\\anaconda\\lib\\site-packages (from gensim) (1.6.2)\n",
      "Requirement already satisfied: smart-open>=1.8.1 in e:\\data_science\\anaconda\\lib\\site-packages (from gensim) (5.1.0)\n",
      "Requirement already satisfied: numpy>=1.11.3 in e:\\data_science\\anaconda\\lib\\site-packages (from gensim) (1.20.1)\n",
      "Requirement already satisfied: Cython==0.29.21 in e:\\data_science\\anaconda\\lib\\site-packages (from gensim) (0.29.21)\n",
      "Note: you may need to restart the kernel to use updated packages.\n"
     ]
    }
   ],
   "source": [
    "pip install -U gensim"
   ]
  },
  {
   "cell_type": "code",
   "execution_count": 10,
   "id": "eb6b2621",
   "metadata": {},
   "outputs": [
    {
     "name": "stdout",
     "output_type": "stream",
     "text": [
      "(1000, 1685)\n"
     ]
    }
   ],
   "source": [
    "from sklearn.feature_extraction import text\n",
    "product_names=products['product_name'].tolist()\n",
    "tfidf=text.TfidfVectorizer(input=product_names,stop_words=\"english\")\n",
    "matrix=tfidf.fit_transform(product_names)\n",
    "print(matrix.shape)"
   ]
  },
  {
   "cell_type": "code",
   "execution_count": 11,
   "id": "af51031b",
   "metadata": {},
   "outputs": [],
   "source": [
    "from sklearn.metrics.pairwise import cosine_similarity\n",
    "sim_unigram=cosine_similarity(matrix)"
   ]
  },
  {
   "cell_type": "code",
   "execution_count": 12,
   "id": "eb525bb9",
   "metadata": {},
   "outputs": [],
   "source": [
    "def get_similar_products(x):\n",
    "    return \",\".join(products['product_name'].loc[x.argsort()[-5:-1]])\n",
    "products['suggested_product_name']=[get_similar_products(x) for x in sim_unigram]"
   ]
  },
  {
   "cell_type": "code",
   "execution_count": 13,
   "id": "908dac76",
   "metadata": {},
   "outputs": [
    {
     "data": {
      "text/plain": [
       "[\"THIN STACKERS BROWN RICE  SALT FREE,SARDINES IN WATER SALT ADDED,SALT FREE SEASONING,NATURE'S SEASONS SEASONING BLEND\"]"
      ]
     },
     "execution_count": 13,
     "metadata": {},
     "output_type": "execute_result"
    }
   ],
   "source": [
    "products['suggested_product_name'].str.upper().str.strip().str.split(\"\\n\")[1]"
   ]
  },
  {
   "cell_type": "code",
   "execution_count": 14,
   "id": "a17067d9",
   "metadata": {},
   "outputs": [
    {
     "data": {
      "text/plain": [
       "0      Oreo Cookies and Cream Chocolate Frozen Dairy ...\n",
       "1      Thin Stackers Brown Rice  Salt Free,Sardines i...\n",
       "2      Almond Breeze Unsweetened Almond Coconut Milk ...\n",
       "3      Classic coke,Ice Cream, Cookies & Cream,Mini D...\n",
       "4      Petite Green Peas,Caramel Sauce,Apple Green Cu...\n",
       "                             ...                        \n",
       "995    Ceylon Cinnamon,Low Fat Honey Graham Crackers,...\n",
       "996    French Vanilla Ice Cream,Dark Chocolate Ice Cr...\n",
       "997    Apple Green Cups,New Mexico Chili,White Chicke...\n",
       "998    Candy, Original,Original Turkey,Sweet & Smokey...\n",
       "999    Eco-Pac Kamut Puffs Cereal,Cheese Creations Fo...\n",
       "Name: suggested_product_name, Length: 1000, dtype: object"
      ]
     },
     "execution_count": 14,
     "metadata": {},
     "output_type": "execute_result"
    }
   ],
   "source": [
    "products['suggested_product_name']"
   ]
  },
  {
   "cell_type": "code",
   "execution_count": 15,
   "id": "43703cf0",
   "metadata": {},
   "outputs": [
    {
     "name": "stdout",
     "output_type": "stream",
     "text": [
      "<class 'pandas.core.frame.DataFrame'>\n",
      "RangeIndex: 1000 entries, 0 to 999\n",
      "Data columns (total 5 columns):\n",
      " #   Column                  Non-Null Count  Dtype \n",
      "---  ------                  --------------  ----- \n",
      " 0   product_id              1000 non-null   int64 \n",
      " 1   product_name            1000 non-null   object\n",
      " 2   aisle_id                1000 non-null   int64 \n",
      " 3   department_id           1000 non-null   int64 \n",
      " 4   suggested_product_name  1000 non-null   object\n",
      "dtypes: int64(3), object(2)\n",
      "memory usage: 39.2+ KB\n"
     ]
    }
   ],
   "source": [
    "products.info()"
   ]
  },
  {
   "cell_type": "code",
   "execution_count": 16,
   "id": "6df56af6",
   "metadata": {},
   "outputs": [],
   "source": [
    "products['product_id']=products['product_id'].apply(str)"
   ]
  },
  {
   "cell_type": "code",
   "execution_count": 17,
   "id": "ff54e3d8",
   "metadata": {},
   "outputs": [
    {
     "name": "stdout",
     "output_type": "stream",
     "text": [
      "(1000, 991)\n"
     ]
    }
   ],
   "source": [
    "products_id=products['product_id'].tolist()\n",
    "tfidf_prods=text.TfidfVectorizer(input=products_id)\n",
    "matrix_prods=tfidf_prods.fit_transform(products_id)\n",
    "print(matrix_prods.shape)"
   ]
  },
  {
   "cell_type": "code",
   "execution_count": 18,
   "id": "a02f0a69",
   "metadata": {},
   "outputs": [],
   "source": [
    "sim_unigram_prod=cosine_similarity(matrix_prods)"
   ]
  },
  {
   "cell_type": "code",
   "execution_count": 19,
   "id": "163962e5",
   "metadata": {},
   "outputs": [],
   "source": [
    "def get_similar_products_id(x):\n",
    "    return \",\".join(products['product_id'].loc[x.argsort()[-5:-1]])\n",
    "products['suggested_product_id']=[get_similar_products_id(x) for x in sim_unigram_prod]"
   ]
  },
  {
   "cell_type": "code",
   "execution_count": 20,
   "id": "55c30859",
   "metadata": {},
   "outputs": [
    {
     "data": {
      "text/plain": [
       "0       340,341,342,329\n",
       "1       340,341,342,329\n",
       "2       340,341,342,329\n",
       "3       340,341,342,329\n",
       "4       340,341,342,329\n",
       "             ...       \n",
       "995    340,341,328,1000\n",
       "996    340,341,328,1000\n",
       "997    340,341,328,1000\n",
       "998     339,340,341,328\n",
       "999     340,341,342,329\n",
       "Name: suggested_product_id, Length: 1000, dtype: object"
      ]
     },
     "execution_count": 20,
     "metadata": {},
     "output_type": "execute_result"
    }
   ],
   "source": [
    "products['suggested_product_id']"
   ]
  },
  {
   "cell_type": "code",
   "execution_count": 21,
   "id": "791c7f7e",
   "metadata": {},
   "outputs": [
    {
     "name": "stdout",
     "output_type": "stream",
     "text": [
      "<class 'pandas.core.frame.DataFrame'>\n",
      "RangeIndex: 1000 entries, 0 to 999\n",
      "Data columns (total 6 columns):\n",
      " #   Column                  Non-Null Count  Dtype \n",
      "---  ------                  --------------  ----- \n",
      " 0   product_id              1000 non-null   object\n",
      " 1   product_name            1000 non-null   object\n",
      " 2   aisle_id                1000 non-null   int64 \n",
      " 3   department_id           1000 non-null   int64 \n",
      " 4   suggested_product_name  1000 non-null   object\n",
      " 5   suggested_product_id    1000 non-null   object\n",
      "dtypes: int64(2), object(4)\n",
      "memory usage: 47.0+ KB\n"
     ]
    }
   ],
   "source": [
    "products.info()"
   ]
  },
  {
   "cell_type": "code",
   "execution_count": 22,
   "id": "425e170f",
   "metadata": {},
   "outputs": [],
   "source": [
    "products['department_id']=products['department_id'].apply(str)"
   ]
  },
  {
   "cell_type": "code",
   "execution_count": 23,
   "id": "858f00f2",
   "metadata": {},
   "outputs": [
    {
     "name": "stdout",
     "output_type": "stream",
     "text": [
      "(1000, 12)\n"
     ]
    }
   ],
   "source": [
    "dept_id=products['department_id'].tolist()\n",
    "tfidf_dept=text.TfidfVectorizer(input=dept_id)\n",
    "matrix_dept=tfidf_dept.fit_transform(dept_id)\n",
    "print(matrix_dept.shape)"
   ]
  },
  {
   "cell_type": "code",
   "execution_count": 24,
   "id": "1db572a2",
   "metadata": {},
   "outputs": [],
   "source": [
    "sim_unigram_dept=cosine_similarity(matrix_dept)"
   ]
  },
  {
   "cell_type": "code",
   "execution_count": 25,
   "id": "2babcc90",
   "metadata": {},
   "outputs": [],
   "source": [
    "def get_similar_products_id(x):\n",
    "    return \",\".join(products['department_id'].loc[x.argsort()[-5:-1]])\n",
    "products['suggested_department_id']=[get_similar_products_id(x) for x in sim_unigram_dept]"
   ]
  },
  {
   "cell_type": "code",
   "execution_count": 26,
   "id": "d0b300af",
   "metadata": {},
   "outputs": [
    {
     "data": {
      "text/plain": [
       "0      19,19,19,19\n",
       "1      13,13,13,13\n",
       "2        14,9,8,16\n",
       "3        14,9,8,16\n",
       "4      13,13,13,13\n",
       "          ...     \n",
       "995    19,19,19,19\n",
       "996      14,9,8,16\n",
       "997    13,13,13,13\n",
       "998    13,13,13,13\n",
       "999     14,9,17,10\n",
       "Name: suggested_department_id, Length: 1000, dtype: object"
      ]
     },
     "execution_count": 26,
     "metadata": {},
     "output_type": "execute_result"
    }
   ],
   "source": [
    "products['suggested_department_id']"
   ]
  },
  {
   "cell_type": "code",
   "execution_count": 27,
   "id": "b0cc8f89",
   "metadata": {},
   "outputs": [
    {
     "name": "stdout",
     "output_type": "stream",
     "text": [
      "<class 'pandas.core.frame.DataFrame'>\n",
      "RangeIndex: 1000 entries, 0 to 999\n",
      "Data columns (total 7 columns):\n",
      " #   Column                   Non-Null Count  Dtype \n",
      "---  ------                   --------------  ----- \n",
      " 0   product_id               1000 non-null   object\n",
      " 1   product_name             1000 non-null   object\n",
      " 2   aisle_id                 1000 non-null   int64 \n",
      " 3   department_id            1000 non-null   object\n",
      " 4   suggested_product_name   1000 non-null   object\n",
      " 5   suggested_product_id     1000 non-null   object\n",
      " 6   suggested_department_id  1000 non-null   object\n",
      "dtypes: int64(1), object(6)\n",
      "memory usage: 54.8+ KB\n"
     ]
    }
   ],
   "source": [
    "products.info()"
   ]
  },
  {
   "cell_type": "code",
   "execution_count": 28,
   "id": "3d54bf15",
   "metadata": {},
   "outputs": [
    {
     "data": {
      "text/html": [
       "<div>\n",
       "<style scoped>\n",
       "    .dataframe tbody tr th:only-of-type {\n",
       "        vertical-align: middle;\n",
       "    }\n",
       "\n",
       "    .dataframe tbody tr th {\n",
       "        vertical-align: top;\n",
       "    }\n",
       "\n",
       "    .dataframe thead th {\n",
       "        text-align: right;\n",
       "    }\n",
       "</style>\n",
       "<table border=\"1\" class=\"dataframe\">\n",
       "  <thead>\n",
       "    <tr style=\"text-align: right;\">\n",
       "      <th></th>\n",
       "      <th>product_id</th>\n",
       "      <th>product_name</th>\n",
       "      <th>aisle_id</th>\n",
       "      <th>department_id</th>\n",
       "      <th>suggested_product_name</th>\n",
       "      <th>suggested_product_id</th>\n",
       "      <th>suggested_department_id</th>\n",
       "    </tr>\n",
       "  </thead>\n",
       "  <tbody>\n",
       "    <tr>\n",
       "      <th>0</th>\n",
       "      <td>1</td>\n",
       "      <td>Chocolate Sandwich Cookies</td>\n",
       "      <td>61</td>\n",
       "      <td>19</td>\n",
       "      <td>Oreo Cookies and Cream Chocolate Frozen Dairy ...</td>\n",
       "      <td>340,341,342,329</td>\n",
       "      <td>19,19,19,19</td>\n",
       "    </tr>\n",
       "    <tr>\n",
       "      <th>1</th>\n",
       "      <td>2</td>\n",
       "      <td>All-Seasons Salt</td>\n",
       "      <td>104</td>\n",
       "      <td>13</td>\n",
       "      <td>Thin Stackers Brown Rice  Salt Free,Sardines i...</td>\n",
       "      <td>340,341,342,329</td>\n",
       "      <td>13,13,13,13</td>\n",
       "    </tr>\n",
       "    <tr>\n",
       "      <th>2</th>\n",
       "      <td>3</td>\n",
       "      <td>Robust Golden Unsweetened Oolong Tea</td>\n",
       "      <td>94</td>\n",
       "      <td>7</td>\n",
       "      <td>Almond Breeze Unsweetened Almond Coconut Milk ...</td>\n",
       "      <td>340,341,342,329</td>\n",
       "      <td>14,9,8,16</td>\n",
       "    </tr>\n",
       "    <tr>\n",
       "      <th>3</th>\n",
       "      <td>4</td>\n",
       "      <td>Smart Ones Classic Favorites Mini Rigatoni Wit...</td>\n",
       "      <td>38</td>\n",
       "      <td>1</td>\n",
       "      <td>Classic coke,Ice Cream, Cookies &amp; Cream,Mini D...</td>\n",
       "      <td>340,341,342,329</td>\n",
       "      <td>14,9,8,16</td>\n",
       "    </tr>\n",
       "    <tr>\n",
       "      <th>4</th>\n",
       "      <td>5</td>\n",
       "      <td>Green Chile Anytime Sauce</td>\n",
       "      <td>5</td>\n",
       "      <td>13</td>\n",
       "      <td>Petite Green Peas,Caramel Sauce,Apple Green Cu...</td>\n",
       "      <td>340,341,342,329</td>\n",
       "      <td>13,13,13,13</td>\n",
       "    </tr>\n",
       "  </tbody>\n",
       "</table>\n",
       "</div>"
      ],
      "text/plain": [
       "  product_id                                       product_name  aisle_id  \\\n",
       "0          1                         Chocolate Sandwich Cookies        61   \n",
       "1          2                                   All-Seasons Salt       104   \n",
       "2          3               Robust Golden Unsweetened Oolong Tea        94   \n",
       "3          4  Smart Ones Classic Favorites Mini Rigatoni Wit...        38   \n",
       "4          5                          Green Chile Anytime Sauce         5   \n",
       "\n",
       "  department_id                             suggested_product_name  \\\n",
       "0            19  Oreo Cookies and Cream Chocolate Frozen Dairy ...   \n",
       "1            13  Thin Stackers Brown Rice  Salt Free,Sardines i...   \n",
       "2             7  Almond Breeze Unsweetened Almond Coconut Milk ...   \n",
       "3             1  Classic coke,Ice Cream, Cookies & Cream,Mini D...   \n",
       "4            13  Petite Green Peas,Caramel Sauce,Apple Green Cu...   \n",
       "\n",
       "  suggested_product_id suggested_department_id  \n",
       "0      340,341,342,329             19,19,19,19  \n",
       "1      340,341,342,329             13,13,13,13  \n",
       "2      340,341,342,329               14,9,8,16  \n",
       "3      340,341,342,329               14,9,8,16  \n",
       "4      340,341,342,329             13,13,13,13  "
      ]
     },
     "execution_count": 28,
     "metadata": {},
     "output_type": "execute_result"
    }
   ],
   "source": [
    "products.head()"
   ]
  },
  {
   "cell_type": "code",
   "execution_count": null,
   "id": "88c562d3",
   "metadata": {},
   "outputs": [],
   "source": []
  }
 ],
 "metadata": {
  "kernelspec": {
   "display_name": "Python 3",
   "language": "python",
   "name": "python3"
  },
  "language_info": {
   "codemirror_mode": {
    "name": "ipython",
    "version": 3
   },
   "file_extension": ".py",
   "mimetype": "text/x-python",
   "name": "python",
   "nbconvert_exporter": "python",
   "pygments_lexer": "ipython3",
   "version": "3.8.8"
  }
 },
 "nbformat": 4,
 "nbformat_minor": 5
}
